{
  "nbformat": 4,
  "nbformat_minor": 0,
  "metadata": {
    "colab": {
      "provenance": [],
      "authorship_tag": "ABX9TyPe9gc4glTYlMWjsjN6pNPV",
      "include_colab_link": true
    },
    "kernelspec": {
      "name": "python3",
      "display_name": "Python 3"
    },
    "language_info": {
      "name": "python"
    }
  },
  "cells": [
    {
      "cell_type": "markdown",
      "metadata": {
        "id": "view-in-github",
        "colab_type": "text"
      },
      "source": [
        "<a href=\"https://colab.research.google.com/github/Andrea91s/immobiliare_scraping_project/blob/main/Immobiliare_analysis.ipynb\" target=\"_parent\"><img src=\"https://colab.research.google.com/assets/colab-badge.svg\" alt=\"Open In Colab\"/></a>"
      ]
    },
    {
      "cell_type": "code",
      "execution_count": null,
      "metadata": {
        "colab": {
          "base_uri": "https://localhost:8080/"
        },
        "id": "eiF5Aak3ToN-",
        "outputId": "fc6025fe-9ff5-4a88-95b7-e0831e9a3b6a"
      },
      "outputs": [
        {
          "output_type": "stream",
          "name": "stdout",
          "text": [
            "Drive already mounted at /content/drive; to attempt to forcibly remount, call drive.mount(\"/content/drive\", force_remount=True).\n"
          ]
        }
      ],
      "source": [
        "import pandas as pd\n",
        "from datetime import datetime\n",
        "import numpy as np\n",
        "import matplotlib.pyplot as plt\n",
        "from google.colab import drive, files\n",
        "drive.mount('/content/drive')\n"
      ]
    },
    {
      "cell_type": "code",
      "source": [
        "def clean(df):\n",
        "\n",
        "  missing_values = df.isna().sum()/len(df)\n",
        "\n",
        "  threshold = 0.9\n",
        "  columns_to_drop = missing_values[missing_values > threshold].index\n",
        "\n",
        "  # Rimuovi le colonne dal dataframe\n",
        "  df = df.drop(columns_to_drop, axis=1)\n",
        "  df=df.drop(columns=['Unnamed: 0','Riferimento e Data annuncio', 'cauzione', 'certificazione energetica'])\n",
        "  df['superficie']=df['superficie'].str.extract('(\\d+)').fillna('10000').astype(int)\n",
        "  df['stanze']=df['locali'].str.extract('(\\d+)').fillna(1000)\n",
        "  df['piano_info']=df['piano']\n",
        "  df['piano']=df['piano'].str.extract('(\\d+)').dropna().astype(int)\n",
        "  df=df[(df['prezzo']!= 'prezzo su richiesta') ]\n",
        "  df['prezzo']=df['prezzo'].str.replace('€', '').str.replace('.', '').dropna().astype(int)\n",
        "  df=df[df['piano']>1]\n",
        "  df=df[(df['prezzo']<=320000) & (df['prezzo']>=160000) & (df['superficie']>80) & (df['superficie']<120)]\n",
        "  df=df[(df['stato']=='Nuovo / In costruzione') | (df['stato']=='Ottimo / Ristrutturato')]\n",
        "  return df"
      ],
      "metadata": {
        "id": "kw4WoZ1SXikK"
      },
      "execution_count": null,
      "outputs": []
    },
    {
      "cell_type": "code",
      "source": [
        "df=pd.read_csv('/content/drive/MyDrive/Colab Notebooks/immobiliare_df.csv')\n",
        "df=clean(df)\n",
        "df.to_csv('Immobiliare_excel.csv', sep = ';')\n",
        "files.download('Immobiliare_excel.csv')"
      ],
      "metadata": {
        "colab": {
          "base_uri": "https://localhost:8080/",
          "height": 72
        },
        "id": "lqWDzxHDTyX0",
        "outputId": "7732e123-9167-4dc9-c80a-d87128eecabf"
      },
      "execution_count": null,
      "outputs": [
        {
          "output_type": "stream",
          "name": "stderr",
          "text": [
            "<ipython-input-33-c6ce96907e0c>:16: FutureWarning: The default value of regex will change from True to False in a future version. In addition, single character regular expressions will *not* be treated as literal strings when regex=True.\n",
            "  df['prezzo']=df['prezzo'].str.replace('€', '').str.replace('.', '').dropna().astype(int)\n"
          ]
        },
        {
          "output_type": "display_data",
          "data": {
            "text/plain": [
              "<IPython.core.display.Javascript object>"
            ],
            "application/javascript": [
              "\n",
              "    async function download(id, filename, size) {\n",
              "      if (!google.colab.kernel.accessAllowed) {\n",
              "        return;\n",
              "      }\n",
              "      const div = document.createElement('div');\n",
              "      const label = document.createElement('label');\n",
              "      label.textContent = `Downloading \"${filename}\": `;\n",
              "      div.appendChild(label);\n",
              "      const progress = document.createElement('progress');\n",
              "      progress.max = size;\n",
              "      div.appendChild(progress);\n",
              "      document.body.appendChild(div);\n",
              "\n",
              "      const buffers = [];\n",
              "      let downloaded = 0;\n",
              "\n",
              "      const channel = await google.colab.kernel.comms.open(id);\n",
              "      // Send a message to notify the kernel that we're ready.\n",
              "      channel.send({})\n",
              "\n",
              "      for await (const message of channel.messages) {\n",
              "        // Send a message to notify the kernel that we're ready.\n",
              "        channel.send({})\n",
              "        if (message.buffers) {\n",
              "          for (const buffer of message.buffers) {\n",
              "            buffers.push(buffer);\n",
              "            downloaded += buffer.byteLength;\n",
              "            progress.value = downloaded;\n",
              "          }\n",
              "        }\n",
              "      }\n",
              "      const blob = new Blob(buffers, {type: 'application/binary'});\n",
              "      const a = document.createElement('a');\n",
              "      a.href = window.URL.createObjectURL(blob);\n",
              "      a.download = filename;\n",
              "      div.appendChild(a);\n",
              "      a.click();\n",
              "      div.remove();\n",
              "    }\n",
              "  "
            ]
          },
          "metadata": {}
        },
        {
          "output_type": "display_data",
          "data": {
            "text/plain": [
              "<IPython.core.display.Javascript object>"
            ],
            "application/javascript": [
              "download(\"download_dbe79cbc-a4ca-4491-b27d-3217608e8257\", \"Immobiliare_excel.csv\", 46506)"
            ]
          },
          "metadata": {}
        }
      ]
    },
    {
      "cell_type": "code",
      "source": [],
      "metadata": {
        "id": "nuSh73oUlgGy"
      },
      "execution_count": null,
      "outputs": []
    }
  ]
}